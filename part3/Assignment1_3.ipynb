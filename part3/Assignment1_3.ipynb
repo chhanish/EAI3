{
  "nbformat": 4,
  "nbformat_minor": 0,
  "metadata": {
    "colab": {
      "name": "Assignment1_3",
      "provenance": []
    },
    "kernelspec": {
      "name": "python3",
      "display_name": "Python 3"
    },
    "language_info": {
      "name": "python"
    }
  },
  "cells": [
    {
      "cell_type": "code",
      "metadata": {
        "id": "6cuHFmiGwBvW"
      },
      "source": [
        "import numpy as np\n",
        "import itertools\n",
        "import random"
      ],
      "execution_count": 149,
      "outputs": []
    },
    {
      "cell_type": "code",
      "metadata": {
        "id": "jQ2IvbHPKjOl"
      },
      "source": [
        "def read_data(data):\n",
        "    records = []\n",
        "    for item in data:\n",
        "        records.append(item.split())\n",
        "    for item in records:\n",
        "        team_size = len(item[1].split('-'))\n",
        "        item[1] = item[1].split('-')\n",
        "        item.append(team_size)\n",
        "        item[2] = item[2].split(',')\n",
        "    return records\n",
        "\n",
        "\n",
        "def user_data_generator(records):\n",
        "    records = read_data(data)\n",
        "    user_data = {}\n",
        "\n",
        "    for i,u in enumerate(users):\n",
        "        user_data[u] = {\"team_size\" : records[i][3], \"unwanted\" : records[i][2],\n",
        "                        \"requested\" : [i for i in records[i][1]] }\n",
        "    return user_data\n",
        "\n",
        "\n",
        "def cost_calculator(user_data, groups):\n",
        "    users = list(user_data.keys())\n",
        "    user_actual = {}\n",
        "\n",
        "    for u in users:\n",
        "        user_actual[u] = {\"unwanted_cost\" : 0, \"incorrect_teamsize_cost\" : 0, \"code_sharing_cost\" : 0}\n",
        "        for g in groups:\n",
        "            temp = g.split(\"-\")\n",
        "            # print(temp)\n",
        "            if u in temp:\n",
        "                if len(temp) != user_data[u]['team_size']:\n",
        "                    user_actual[u][\"incorrect_teamsize_cost\"] = 2\n",
        "            \n",
        "                for not_wanted in user_data[u]['unwanted']:\n",
        "                    if not_wanted in  temp:\n",
        "                        user_actual[u][\"unwanted_cost\"] += 10\n",
        "                for wanted in user_data[u]['requested']:\n",
        "                    if wanted not in temp and wanted not in ('xxx', 'zzz'):\n",
        "                        user_actual[u][\"code_sharing_cost\"] += 3\n",
        "\n",
        "    display(user_actual)   \n",
        "    print(\"\\n\"*2)\n",
        "    code_sharing_cost = sum([i['code_sharing_cost'] for i in user_actual.values()])\n",
        "    incorrect_teamsize_cost = sum([i['incorrect_teamsize_cost'] for i in user_actual.values()])\n",
        "    unwanted_cost = sum([i['unwanted_cost'] for i in user_actual.values()])\n",
        "    grading_cost = len(groups)*5\n",
        "\n",
        "    total_cost = code_sharing_cost + incorrect_teamsize_cost + unwanted_cost + grading_cost\n",
        "\n",
        "    return {\"assigned-groups\": groups,\n",
        "               \"total-cost\" : total_cost}\n",
        "\n"
      ],
      "execution_count": 141,
      "outputs": []
    },
    {
      "cell_type": "code",
      "metadata": {
        "id": "2NEFN8fgRY9E"
      },
      "source": [
        "data = ['djcran djcran-vkvats-nthakurd sahmaini',\n",
        "         'sahmaini sahmaini _', \n",
        "         'sulagaop sulagaop-xxx-xxx _',\n",
        "         'fanjun fanjun-xxx nthakurd',\n",
        "         'nthakurd nthakurd djcran,fanjun',\n",
        "         'vkvats vkvats-sahmaini _']"
      ],
      "execution_count": 150,
      "outputs": []
    },
    {
      "cell_type": "code",
      "metadata": {
        "colab": {
          "base_uri": "https://localhost:8080/",
          "height": 295
        },
        "id": "FdIkH6OyRY6c",
        "outputId": "3f74d59b-ccc1-4209-aa35-410de6c4593f"
      },
      "source": [
        "records = read_data(data)\n",
        "# display(records)\n",
        "user_form_data = user_data_generator(records)\n",
        "\n",
        "display(user_form_data)"
      ],
      "execution_count": 151,
      "outputs": [
        {
          "output_type": "display_data",
          "data": {
            "text/plain": [
              "{'djcran': {'requested': ['djcran', 'vkvats', 'nthakurd'],\n",
              "  'team_size': 3,\n",
              "  'unwanted': ['sahmaini']},\n",
              " 'fanjun': {'requested': ['fanjun', 'xxx'],\n",
              "  'team_size': 2,\n",
              "  'unwanted': ['nthakurd']},\n",
              " 'nthakurd': {'requested': ['nthakurd'],\n",
              "  'team_size': 1,\n",
              "  'unwanted': ['djcran', 'fanjun']},\n",
              " 'sahmaini': {'requested': ['sahmaini'], 'team_size': 1, 'unwanted': ['_']},\n",
              " 'sulagaop': {'requested': ['sulagaop', 'xxx', 'xxx'],\n",
              "  'team_size': 3,\n",
              "  'unwanted': ['_']},\n",
              " 'vkvats': {'requested': ['vkvats', 'sahmaini'],\n",
              "  'team_size': 2,\n",
              "  'unwanted': ['_']}}"
            ]
          },
          "metadata": {}
        }
      ]
    },
    {
      "cell_type": "code",
      "metadata": {
        "colab": {
          "base_uri": "https://localhost:8080/",
          "height": 416
        },
        "id": "RF_bfI6wRqWv",
        "outputId": "a6fb197f-542c-43c9-ef42-32232cfcbe60"
      },
      "source": [
        "curr_group = ['djcran-sahmaini-sulagaop', 'fanjun-nthakurd-vkvats']\n",
        "\n",
        "cost_calculator(user_form_data, curr_group)"
      ],
      "execution_count": 155,
      "outputs": [
        {
          "output_type": "display_data",
          "data": {
            "text/plain": [
              "{'djcran': {'code_sharing_cost': 6,\n",
              "  'incorrect_teamsize_cost': 0,\n",
              "  'unwanted_cost': 10},\n",
              " 'fanjun': {'code_sharing_cost': 0,\n",
              "  'incorrect_teamsize_cost': 2,\n",
              "  'unwanted_cost': 10},\n",
              " 'nthakurd': {'code_sharing_cost': 0,\n",
              "  'incorrect_teamsize_cost': 2,\n",
              "  'unwanted_cost': 10},\n",
              " 'sahmaini': {'code_sharing_cost': 0,\n",
              "  'incorrect_teamsize_cost': 2,\n",
              "  'unwanted_cost': 0},\n",
              " 'sulagaop': {'code_sharing_cost': 0,\n",
              "  'incorrect_teamsize_cost': 0,\n",
              "  'unwanted_cost': 0},\n",
              " 'vkvats': {'code_sharing_cost': 3,\n",
              "  'incorrect_teamsize_cost': 2,\n",
              "  'unwanted_cost': 0}}"
            ]
          },
          "metadata": {}
        },
        {
          "output_type": "stream",
          "name": "stdout",
          "text": [
            "\n",
            "\n",
            "\n"
          ]
        },
        {
          "output_type": "execute_result",
          "data": {
            "text/plain": [
              "{'assigned-groups': ['djcran-sahmaini-sulagaop', 'fanjun-nthakurd-vkvats'],\n",
              " 'total-cost': 57}"
            ]
          },
          "metadata": {},
          "execution_count": 155
        }
      ]
    },
    {
      "cell_type": "code",
      "metadata": {
        "colab": {
          "base_uri": "https://localhost:8080/"
        },
        "id": "y8WvjHKSyf03",
        "outputId": "8e31f0d8-f362-42af-f37f-1d911cd120c5"
      },
      "source": [
        "user_form_data"
      ],
      "execution_count": 146,
      "outputs": [
        {
          "output_type": "execute_result",
          "data": {
            "text/plain": [
              "{'djcran': {'requested': ['djcran', 'vkvats', 'nthakurd'],\n",
              "  'team_size': 3,\n",
              "  'unwanted': ['sahmaini']},\n",
              " 'fanjun': {'requested': ['fanjun', 'xxx'],\n",
              "  'team_size': 2,\n",
              "  'unwanted': ['nthakurd']},\n",
              " 'nthakurd': {'requested': ['nthakurd'],\n",
              "  'team_size': 1,\n",
              "  'unwanted': ['djcran', 'fanjun']},\n",
              " 'sahmaini': {'requested': ['sahmaini'], 'team_size': 1, 'unwanted': ['_']},\n",
              " 'sulagaop': {'requested': ['sulagaop', 'xxx', 'xxx'],\n",
              "  'team_size': 3,\n",
              "  'unwanted': ['_']},\n",
              " 'vkvats': {'requested': ['vkvats', 'sahmaini'],\n",
              "  'team_size': 2,\n",
              "  'unwanted': ['_']}}"
            ]
          },
          "metadata": {},
          "execution_count": 146
        }
      ]
    },
    {
      "cell_type": "code",
      "metadata": {
        "colab": {
          "base_uri": "https://localhost:8080/",
          "height": 416
        },
        "id": "u6FQiUwrSj5s",
        "outputId": "f3c4348f-a81e-4861-cdf1-c8b2f31a2bde"
      },
      "source": [
        "curr_group = ['djcran-nthakurd-vkvats', 'fanjun-sahmaini-sulagaop']\n",
        "cost_calculator(user_form_data, curr_group)"
      ],
      "execution_count": 153,
      "outputs": [
        {
          "output_type": "display_data",
          "data": {
            "text/plain": [
              "{'djcran': {'code_sharing_cost': 0,\n",
              "  'incorrect_teamsize_cost': 0,\n",
              "  'unwanted_cost': 0},\n",
              " 'fanjun': {'code_sharing_cost': 0,\n",
              "  'incorrect_teamsize_cost': 2,\n",
              "  'unwanted_cost': 0},\n",
              " 'nthakurd': {'code_sharing_cost': 0,\n",
              "  'incorrect_teamsize_cost': 2,\n",
              "  'unwanted_cost': 10},\n",
              " 'sahmaini': {'code_sharing_cost': 0,\n",
              "  'incorrect_teamsize_cost': 2,\n",
              "  'unwanted_cost': 0},\n",
              " 'sulagaop': {'code_sharing_cost': 0,\n",
              "  'incorrect_teamsize_cost': 0,\n",
              "  'unwanted_cost': 0},\n",
              " 'vkvats': {'code_sharing_cost': 3,\n",
              "  'incorrect_teamsize_cost': 2,\n",
              "  'unwanted_cost': 0}}"
            ]
          },
          "metadata": {}
        },
        {
          "output_type": "stream",
          "name": "stdout",
          "text": [
            "\n",
            "\n",
            "\n"
          ]
        },
        {
          "output_type": "execute_result",
          "data": {
            "text/plain": [
              "{'assigned-groups': ['djcran-nthakurd-vkvats', 'fanjun-sahmaini-sulagaop'],\n",
              " 'total-cost': 31}"
            ]
          },
          "metadata": {},
          "execution_count": 153
        }
      ]
    },
    {
      "cell_type": "code",
      "metadata": {
        "colab": {
          "base_uri": "https://localhost:8080/",
          "height": 416
        },
        "id": "Iyog3tg0TUsX",
        "outputId": "f785225a-5a60-4b3c-b2c0-95403b262d73"
      },
      "source": [
        "curr_group = ['djcran-vkvats', 'fanjun-sahmaini-sulagaop', 'nthakurd']\n",
        "cost_calculator(user_form_data, curr_group)"
      ],
      "execution_count": 154,
      "outputs": [
        {
          "output_type": "display_data",
          "data": {
            "text/plain": [
              "{'djcran': {'code_sharing_cost': 3,\n",
              "  'incorrect_teamsize_cost': 2,\n",
              "  'unwanted_cost': 0},\n",
              " 'fanjun': {'code_sharing_cost': 0,\n",
              "  'incorrect_teamsize_cost': 2,\n",
              "  'unwanted_cost': 0},\n",
              " 'nthakurd': {'code_sharing_cost': 0,\n",
              "  'incorrect_teamsize_cost': 0,\n",
              "  'unwanted_cost': 0},\n",
              " 'sahmaini': {'code_sharing_cost': 0,\n",
              "  'incorrect_teamsize_cost': 2,\n",
              "  'unwanted_cost': 0},\n",
              " 'sulagaop': {'code_sharing_cost': 0,\n",
              "  'incorrect_teamsize_cost': 0,\n",
              "  'unwanted_cost': 0},\n",
              " 'vkvats': {'code_sharing_cost': 3,\n",
              "  'incorrect_teamsize_cost': 0,\n",
              "  'unwanted_cost': 0}}"
            ]
          },
          "metadata": {}
        },
        {
          "output_type": "stream",
          "name": "stdout",
          "text": [
            "\n",
            "\n",
            "\n"
          ]
        },
        {
          "output_type": "execute_result",
          "data": {
            "text/plain": [
              "{'assigned-groups': ['djcran-vkvats', 'fanjun-sahmaini-sulagaop', 'nthakurd'],\n",
              " 'total-cost': 27}"
            ]
          },
          "metadata": {},
          "execution_count": 154
        }
      ]
    },
    {
      "cell_type": "code",
      "metadata": {
        "colab": {
          "base_uri": "https://localhost:8080/"
        },
        "id": "QXRPyLf4TrLO",
        "outputId": "d089cd0c-5c6b-48d8-917d-9d04a2afa8ed"
      },
      "source": [
        "user_form_data"
      ],
      "execution_count": 80,
      "outputs": [
        {
          "output_type": "execute_result",
          "data": {
            "text/plain": [
              "{'djcran': {'requested': ['djcran', 'vkvats', 'nthakurd'],\n",
              "  'team_size': 3,\n",
              "  'unwanted': ['sahmaini']},\n",
              " 'fanjun': {'requested': ['fanjun'], 'team_size': 2, 'unwanted': ['nthakurd']},\n",
              " 'nthakurd': {'requested': ['nthakurd'],\n",
              "  'team_size': 1,\n",
              "  'unwanted': ['djcran', 'fanjun']},\n",
              " 'sahmaini': {'requested': ['sahmaini'], 'team_size': 1, 'unwanted': ['_']},\n",
              " 'sulagaop': {'requested': ['sulagaop'], 'team_size': 3, 'unwanted': ['_']},\n",
              " 'vkvats': {'requested': ['vkvats', 'sahmaini'],\n",
              "  'team_size': 2,\n",
              "  'unwanted': ['_']}}"
            ]
          },
          "metadata": {},
          "execution_count": 80
        }
      ]
    },
    {
      "cell_type": "code",
      "metadata": {
        "colab": {
          "base_uri": "https://localhost:8080/",
          "height": 468
        },
        "id": "_QkoC0VgTzf7",
        "outputId": "167d0c13-493d-44f9-f907-49a735e35db6"
      },
      "source": [
        "curr_group = ['djcran-vkvats', 'fanjun-sulagaop', 'nthakurd', 'sahmaini']\n",
        "cost_calculator(user_form_data, curr_group)"
      ],
      "execution_count": 133,
      "outputs": [
        {
          "output_type": "display_data",
          "data": {
            "text/plain": [
              "{'djcran': {'code_sharing_cost': 3,\n",
              "  'incorrect_teamsize_cost': 2,\n",
              "  'unwanted_cost': 0},\n",
              " 'fanjun': {'code_sharing_cost': 0,\n",
              "  'incorrect_teamsize_cost': 0,\n",
              "  'unwanted_cost': 0},\n",
              " 'nthakurd': {'code_sharing_cost': 0,\n",
              "  'incorrect_teamsize_cost': 0,\n",
              "  'unwanted_cost': 0},\n",
              " 'sahmaini': {'code_sharing_cost': 0,\n",
              "  'incorrect_teamsize_cost': 0,\n",
              "  'unwanted_cost': 0},\n",
              " 'sulagaop': {'code_sharing_cost': 0,\n",
              "  'incorrect_teamsize_cost': 2,\n",
              "  'unwanted_cost': 0},\n",
              " 'vkvats': {'code_sharing_cost': 3,\n",
              "  'incorrect_teamsize_cost': 0,\n",
              "  'unwanted_cost': 0}}"
            ]
          },
          "metadata": {}
        },
        {
          "output_type": "stream",
          "name": "stdout",
          "text": [
            "\n",
            "\n",
            "\n"
          ]
        },
        {
          "output_type": "execute_result",
          "data": {
            "text/plain": [
              "{'assigned-groups': ['djcran-vkvats',\n",
              "  'fanjun-sulagaop',\n",
              "  'nthakurd',\n",
              "  'sahmaini'],\n",
              " 'total-cost': 30}"
            ]
          },
          "metadata": {},
          "execution_count": 133
        }
      ]
    },
    {
      "cell_type": "code",
      "metadata": {
        "id": "UL7gPpn2UDHA"
      },
      "source": [
        ""
      ],
      "execution_count": null,
      "outputs": []
    },
    {
      "cell_type": "code",
      "metadata": {
        "id": "y-LQOE40UDFi"
      },
      "source": [
        ""
      ],
      "execution_count": null,
      "outputs": []
    },
    {
      "cell_type": "code",
      "metadata": {
        "id": "1iL_uDgKUDCN"
      },
      "source": [
        ""
      ],
      "execution_count": null,
      "outputs": []
    },
    {
      "cell_type": "code",
      "metadata": {
        "id": "ureAIo0rUDAO"
      },
      "source": [
        ""
      ],
      "execution_count": null,
      "outputs": []
    },
    {
      "cell_type": "code",
      "metadata": {
        "id": "jxcPnx7fUC9J"
      },
      "source": [
        ""
      ],
      "execution_count": null,
      "outputs": []
    },
    {
      "cell_type": "code",
      "metadata": {
        "id": "ZVj6NobuUC6h"
      },
      "source": [
        ""
      ],
      "execution_count": null,
      "outputs": []
    },
    {
      "cell_type": "code",
      "metadata": {
        "id": "jBFicXgiUC4u"
      },
      "source": [
        ""
      ],
      "execution_count": null,
      "outputs": []
    },
    {
      "cell_type": "code",
      "metadata": {
        "id": "fqnjOcpZUC1f"
      },
      "source": [
        ""
      ],
      "execution_count": null,
      "outputs": []
    },
    {
      "cell_type": "code",
      "metadata": {
        "id": "cecRDUKDUCy6"
      },
      "source": [
        ""
      ],
      "execution_count": null,
      "outputs": []
    }
  ]
}